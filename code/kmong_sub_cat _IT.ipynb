{
 "cells": [
  {
   "cell_type": "code",
   "execution_count": 129,
   "id": "6a50005b-1415-4143-9ac7-7f21240d1918",
   "metadata": {
    "tags": []
   },
   "outputs": [],
   "source": [
    "import requests\n",
    "from bs4 import BeautifulSoup\n",
    "from selenium import webdriver\n",
    "from selenium.webdriver.common.by import By\n",
    "from tqdm import tqdm\n",
    "import numpy as np\n",
    "import pandas as pd\n",
    "import seaborn as sns\n",
    "import matplotlib as mpl\n",
    "import matplotlib.pyplot as plt\n",
    "from selenium.webdriver.chrome.options import Options\n",
    "from selenium.webdriver.support import expected_conditions as EC\n",
    "from tqdm import tqdm\n",
    "\n",
    "options = Options()\n",
    "# options.add_argument('--disable-popup-blocking')\n",
    "options.add_experimental_option('excludeSwitches', ['disable-popup-blocking'])\n",
    "options.add_experimental_option('excludeSwitches', ['enable-logging'])\n",
    "options.add_argument(\"--disable-notifications\")\n",
    "options.add_argument(\"--disable-extensions\")\n",
    "options.add_argument(\"--no-sandbox\")\n",
    "options.add_argument(\"--disable-infobars\")\n",
    "\n",
    "mpl.rc('font', family = 'Malgun Gothic')"
   ]
  },
  {
   "cell_type": "code",
   "execution_count": 131,
   "id": "b2c56919-4637-4b11-a63b-6054c368d74b",
   "metadata": {
    "tags": []
   },
   "outputs": [],
   "source": [
    "driver = webdriver.Chrome(options=options)\n",
    "# driver.get('https://kmong.com/')"
   ]
  },
  {
   "cell_type": "code",
   "execution_count": 132,
   "id": "8f8d49ff-7595-430d-a1e1-92abf5739e79",
   "metadata": {
    "tags": []
   },
   "outputs": [],
   "source": [
    "category = 'IT프로그래밍'\n",
    "# category를 바꿔주세요\n",
    "max_page = 327\n",
    "# 해당 category의 최대 페이지 개수를 설정해주세요"
   ]
  },
  {
   "cell_type": "code",
   "execution_count": 137,
   "id": "4e8d7588-cfed-4775-92c8-ee5c150c4cd2",
   "metadata": {
    "tags": []
   },
   "outputs": [],
   "source": [
    "df_review = pd.DataFrame(columns = ['서비스명', '카테고리', '하위카테고리'])"
   ]
  },
  {
   "cell_type": "code",
   "execution_count": 122,
   "id": "c34f9186-8407-41db-89a0-873ec0129ceb",
   "metadata": {},
   "outputs": [],
   "source": [
    "# df_review = pd.read_csv(f'kmong_{category}_{i}.csv', index_col = 0)"
   ]
  },
  {
   "cell_type": "code",
   "execution_count": 123,
   "id": "b4d32e4f-e5b0-4f13-a36b-1ea2bbb36ced",
   "metadata": {
    "collapsed": true,
    "jupyter": {
     "outputs_hidden": true
    },
    "tags": []
   },
   "outputs": [
    {
     "name": "stderr",
     "output_type": "stream",
     "text": [
      "  8%|██████▌                                                                        | 27/327 [31:21<5:48:22, 69.67s/it]\n"
     ]
    },
    {
     "ename": "NoSuchElementException",
     "evalue": "Message: no such element: Unable to locate element: {\"method\":\"xpath\",\"selector\":\"//*[@id=\"__next\"]/div/div/section[1]/div/div[1]/div/div[1]/h1\"}\n  (Session info: chrome=130.0.6723.70); For documentation on this error, please visit: https://www.selenium.dev/documentation/webdriver/troubleshooting/errors#no-such-element-exception\nStacktrace:\n\tGetHandleVerifier [0x00007FF683373AB5+28005]\n\t(No symbol) [0x00007FF6832D83B0]\n\t(No symbol) [0x00007FF68317580A]\n\t(No symbol) [0x00007FF6831C5A3E]\n\t(No symbol) [0x00007FF6831C5D2C]\n\t(No symbol) [0x00007FF68320EA97]\n\t(No symbol) [0x00007FF6831EBA7F]\n\t(No symbol) [0x00007FF68320B8B3]\n\t(No symbol) [0x00007FF6831EB7E3]\n\t(No symbol) [0x00007FF6831B75C8]\n\t(No symbol) [0x00007FF6831B8731]\n\tGetHandleVerifier [0x00007FF68366643D+3118829]\n\tGetHandleVerifier [0x00007FF6836B6C90+3448640]\n\tGetHandleVerifier [0x00007FF6836ACF0D+3408317]\n\tGetHandleVerifier [0x00007FF68343A40B+841403]\n\t(No symbol) [0x00007FF6832E340F]\n\t(No symbol) [0x00007FF6832DF484]\n\t(No symbol) [0x00007FF6832DF61D]\n\t(No symbol) [0x00007FF6832CEB79]\n\tBaseThreadInitThunk [0x00007FFA3D5A257D+29]\n\tRtlUserThreadStart [0x00007FFA3F64AF08+40]\n",
     "output_type": "error",
     "traceback": [
      "\u001b[1;31m---------------------------------------------------------------------------\u001b[0m",
      "\u001b[1;31mNoSuchElementException\u001b[0m                    Traceback (most recent call last)",
      "Cell \u001b[1;32mIn[123], line 28\u001b[0m\n\u001b[0;32m     25\u001b[0m \u001b[38;5;28;01mexcept\u001b[39;00m:\n\u001b[0;32m     26\u001b[0m     \u001b[38;5;28;01mpass\u001b[39;00m\n\u001b[1;32m---> 28\u001b[0m title \u001b[38;5;241m=\u001b[39m driver\u001b[38;5;241m.\u001b[39mfind_element(By\u001b[38;5;241m.\u001b[39mXPATH, \u001b[38;5;124m'\u001b[39m\u001b[38;5;124m//*[@id=\u001b[39m\u001b[38;5;124m\"\u001b[39m\u001b[38;5;124m__next\u001b[39m\u001b[38;5;124m\"\u001b[39m\u001b[38;5;124m]/div/div/section[1]/div/div[1]/div/div[1]/h1\u001b[39m\u001b[38;5;124m'\u001b[39m)\u001b[38;5;241m.\u001b[39mtext\n\u001b[0;32m     30\u001b[0m css_j2at52 \u001b[38;5;241m=\u001b[39m driver\u001b[38;5;241m.\u001b[39mfind_element(By\u001b[38;5;241m.\u001b[39mCLASS_NAME, \u001b[38;5;124m'\u001b[39m\u001b[38;5;124mcss-j2at52\u001b[39m\u001b[38;5;124m'\u001b[39m)\n\u001b[0;32m     31\u001b[0m p_tag \u001b[38;5;241m=\u001b[39m css_j2at52\u001b[38;5;241m.\u001b[39mfind_elements(By\u001b[38;5;241m.\u001b[39mTAG_NAME, \u001b[38;5;124m'\u001b[39m\u001b[38;5;124mp\u001b[39m\u001b[38;5;124m'\u001b[39m)\n",
      "File \u001b[1;32m~\\anaconda3\\Lib\\site-packages\\selenium\\webdriver\\remote\\webdriver.py:748\u001b[0m, in \u001b[0;36mWebDriver.find_element\u001b[1;34m(self, by, value)\u001b[0m\n\u001b[0;32m    745\u001b[0m     by \u001b[38;5;241m=\u001b[39m By\u001b[38;5;241m.\u001b[39mCSS_SELECTOR\n\u001b[0;32m    746\u001b[0m     value \u001b[38;5;241m=\u001b[39m \u001b[38;5;124mf\u001b[39m\u001b[38;5;124m'\u001b[39m\u001b[38;5;124m[name=\u001b[39m\u001b[38;5;124m\"\u001b[39m\u001b[38;5;132;01m{\u001b[39;00mvalue\u001b[38;5;132;01m}\u001b[39;00m\u001b[38;5;124m\"\u001b[39m\u001b[38;5;124m]\u001b[39m\u001b[38;5;124m'\u001b[39m\n\u001b[1;32m--> 748\u001b[0m \u001b[38;5;28;01mreturn\u001b[39;00m \u001b[38;5;28mself\u001b[39m\u001b[38;5;241m.\u001b[39mexecute(Command\u001b[38;5;241m.\u001b[39mFIND_ELEMENT, {\u001b[38;5;124m\"\u001b[39m\u001b[38;5;124musing\u001b[39m\u001b[38;5;124m\"\u001b[39m: by, \u001b[38;5;124m\"\u001b[39m\u001b[38;5;124mvalue\u001b[39m\u001b[38;5;124m\"\u001b[39m: value})[\u001b[38;5;124m\"\u001b[39m\u001b[38;5;124mvalue\u001b[39m\u001b[38;5;124m\"\u001b[39m]\n",
      "File \u001b[1;32m~\\anaconda3\\Lib\\site-packages\\selenium\\webdriver\\remote\\webdriver.py:354\u001b[0m, in \u001b[0;36mWebDriver.execute\u001b[1;34m(self, driver_command, params)\u001b[0m\n\u001b[0;32m    352\u001b[0m response \u001b[38;5;241m=\u001b[39m \u001b[38;5;28mself\u001b[39m\u001b[38;5;241m.\u001b[39mcommand_executor\u001b[38;5;241m.\u001b[39mexecute(driver_command, params)\n\u001b[0;32m    353\u001b[0m \u001b[38;5;28;01mif\u001b[39;00m response:\n\u001b[1;32m--> 354\u001b[0m     \u001b[38;5;28mself\u001b[39m\u001b[38;5;241m.\u001b[39merror_handler\u001b[38;5;241m.\u001b[39mcheck_response(response)\n\u001b[0;32m    355\u001b[0m     response[\u001b[38;5;124m\"\u001b[39m\u001b[38;5;124mvalue\u001b[39m\u001b[38;5;124m\"\u001b[39m] \u001b[38;5;241m=\u001b[39m \u001b[38;5;28mself\u001b[39m\u001b[38;5;241m.\u001b[39m_unwrap_value(response\u001b[38;5;241m.\u001b[39mget(\u001b[38;5;124m\"\u001b[39m\u001b[38;5;124mvalue\u001b[39m\u001b[38;5;124m\"\u001b[39m, \u001b[38;5;28;01mNone\u001b[39;00m))\n\u001b[0;32m    356\u001b[0m     \u001b[38;5;28;01mreturn\u001b[39;00m response\n",
      "File \u001b[1;32m~\\anaconda3\\Lib\\site-packages\\selenium\\webdriver\\remote\\errorhandler.py:229\u001b[0m, in \u001b[0;36mErrorHandler.check_response\u001b[1;34m(self, response)\u001b[0m\n\u001b[0;32m    227\u001b[0m         alert_text \u001b[38;5;241m=\u001b[39m value[\u001b[38;5;124m\"\u001b[39m\u001b[38;5;124malert\u001b[39m\u001b[38;5;124m\"\u001b[39m]\u001b[38;5;241m.\u001b[39mget(\u001b[38;5;124m\"\u001b[39m\u001b[38;5;124mtext\u001b[39m\u001b[38;5;124m\"\u001b[39m)\n\u001b[0;32m    228\u001b[0m     \u001b[38;5;28;01mraise\u001b[39;00m exception_class(message, screen, stacktrace, alert_text)  \u001b[38;5;66;03m# type: ignore[call-arg]  # mypy is not smart enough here\u001b[39;00m\n\u001b[1;32m--> 229\u001b[0m \u001b[38;5;28;01mraise\u001b[39;00m exception_class(message, screen, stacktrace)\n",
      "\u001b[1;31mNoSuchElementException\u001b[0m: Message: no such element: Unable to locate element: {\"method\":\"xpath\",\"selector\":\"//*[@id=\"__next\"]/div/div/section[1]/div/div[1]/div/div[1]/h1\"}\n  (Session info: chrome=130.0.6723.70); For documentation on this error, please visit: https://www.selenium.dev/documentation/webdriver/troubleshooting/errors#no-such-element-exception\nStacktrace:\n\tGetHandleVerifier [0x00007FF683373AB5+28005]\n\t(No symbol) [0x00007FF6832D83B0]\n\t(No symbol) [0x00007FF68317580A]\n\t(No symbol) [0x00007FF6831C5A3E]\n\t(No symbol) [0x00007FF6831C5D2C]\n\t(No symbol) [0x00007FF68320EA97]\n\t(No symbol) [0x00007FF6831EBA7F]\n\t(No symbol) [0x00007FF68320B8B3]\n\t(No symbol) [0x00007FF6831EB7E3]\n\t(No symbol) [0x00007FF6831B75C8]\n\t(No symbol) [0x00007FF6831B8731]\n\tGetHandleVerifier [0x00007FF68366643D+3118829]\n\tGetHandleVerifier [0x00007FF6836B6C90+3448640]\n\tGetHandleVerifier [0x00007FF6836ACF0D+3408317]\n\tGetHandleVerifier [0x00007FF68343A40B+841403]\n\t(No symbol) [0x00007FF6832E340F]\n\t(No symbol) [0x00007FF6832DF484]\n\t(No symbol) [0x00007FF6832DF61D]\n\t(No symbol) [0x00007FF6832CEB79]\n\tBaseThreadInitThunk [0x00007FFA3D5A257D+29]\n\tRtlUserThreadStart [0x00007FFA3F64AF08+40]\n"
     ]
    }
   ],
   "source": [
    "save = len(df_review)\n",
    "for i in tqdm(range(1, max_page + 1)):\n",
    "# for i in tqdm(range(1, 2 + 1)):\n",
    "    url = f'https://kmong.com/category/6?page={i}&sort=ranking_points&company=false&ratings=&has_portfolio=false&is_contactable=false&is_prime=false&is_fast_reaction=false&meta=&min_price=0&max_price=0'\n",
    "    # category/카테고리에해당하는숫자 를 찾아 위 url 변수에 입력해주세요 ( 6 -> IT/프로그래밍 )\n",
    "    driver.get(url)\n",
    "    driver.implicitly_wait(3)\n",
    "    \n",
    "    try: # 팝업제거\n",
    "        driver.find_element(By.CLASS_NAME, \"ab-close-button\").click()\n",
    "\n",
    "    except:\n",
    "        pass\n",
    "    \n",
    "    service_li = driver.find_elements(By.CLASS_NAME, 'css-mcjshf')\n",
    "    \n",
    "    for service in service_li:\n",
    "        service.click()\n",
    "        driver.implicitly_wait(3)\n",
    "        driver.switch_to.window(driver.window_handles[1])\n",
    "        \n",
    "        try: # 팝업제거\n",
    "            driver.find_element(By.CLASS_NAME, \"ab-close-button\").click()\n",
    "\n",
    "        except:\n",
    "            pass\n",
    "        \n",
    "        title = driver.find_element(By.XPATH, '//*[@id=\"__next\"]/div/div/section[1]/div/div[1]/div/div[1]/h1').text\n",
    "        \n",
    "        css_j2at52 = driver.find_element(By.CLASS_NAME, 'css-j2at52')\n",
    "        p_tag = css_j2at52.find_elements(By.TAG_NAME, 'p')\n",
    "        main_category = p_tag[0].text\n",
    "        \n",
    "        try:\n",
    "            sub_category = p_tag[1].text\n",
    "        except:\n",
    "            sub_category = '기타'\n",
    "            pass\n",
    "        \n",
    "        data = [title, main_category, sub_category]\n",
    "        df_review.loc[save, :] = data\n",
    "                \n",
    "                \n",
    "        save = save + 1\n",
    "                \n",
    "        driver.close()\n",
    "        driver.switch_to.window(driver.window_handles[0])\n",
    "        \n",
    "    df_review.to_csv(f'kmong_{category}.csv')\n",
    "        "
   ]
  },
  {
   "cell_type": "code",
   "execution_count": 139,
   "id": "be89e231-6761-4071-9e11-be49edeb2c4d",
   "metadata": {
    "collapsed": true,
    "jupyter": {
     "outputs_hidden": true
    },
    "tags": []
   },
   "outputs": [
    {
     "name": "stderr",
     "output_type": "stream",
     "text": [
      " 75%|██████████████████████████████████████████████████████████▋                   | 161/214 [3:01:10<59:38, 67.52s/it]\n"
     ]
    },
    {
     "ename": "NoSuchWindowException",
     "evalue": "Message: no such window: target window already closed\nfrom unknown error: web view not found\n  (Session info: chrome=130.0.6723.70)\nStacktrace:\n\tGetHandleVerifier [0x00007FF683373AB5+28005]\n\t(No symbol) [0x00007FF6832D83B0]\n\t(No symbol) [0x00007FF68317580A]\n\t(No symbol) [0x00007FF68314FA85]\n\t(No symbol) [0x00007FF6831F2AD7]\n\t(No symbol) [0x00007FF68320B1B1]\n\t(No symbol) [0x00007FF6831EB7E3]\n\t(No symbol) [0x00007FF6831B75C8]\n\t(No symbol) [0x00007FF6831B8731]\n\tGetHandleVerifier [0x00007FF68366643D+3118829]\n\tGetHandleVerifier [0x00007FF6836B6C90+3448640]\n\tGetHandleVerifier [0x00007FF6836ACF0D+3408317]\n\tGetHandleVerifier [0x00007FF68343A40B+841403]\n\t(No symbol) [0x00007FF6832E340F]\n\t(No symbol) [0x00007FF6832DF484]\n\t(No symbol) [0x00007FF6832DF61D]\n\t(No symbol) [0x00007FF6832CEB79]\n\tBaseThreadInitThunk [0x00007FFA3D5A257D+29]\n\tRtlUserThreadStart [0x00007FFA3F64AF08+40]\n",
     "output_type": "error",
     "traceback": [
      "\u001b[1;31m---------------------------------------------------------------------------\u001b[0m",
      "\u001b[1;31mNoSuchWindowException\u001b[0m                     Traceback (most recent call last)",
      "Cell \u001b[1;32mIn[139], line 6\u001b[0m\n\u001b[0;32m      4\u001b[0m url \u001b[38;5;241m=\u001b[39m \u001b[38;5;124mf\u001b[39m\u001b[38;5;124m'\u001b[39m\u001b[38;5;124mhttps://kmong.com/category/6?page=\u001b[39m\u001b[38;5;132;01m{\u001b[39;00mi\u001b[38;5;132;01m}\u001b[39;00m\u001b[38;5;124m&sort=ranking_points&company=false&ratings=&has_portfolio=false&is_contactable=false&is_prime=false&is_fast_reaction=false&meta=&min_price=0&max_price=0\u001b[39m\u001b[38;5;124m'\u001b[39m\n\u001b[0;32m      5\u001b[0m \u001b[38;5;66;03m# category/카테고리에해당하는숫자 를 찾아 위 url 변수에 입력해주세요 ( 6 -> IT/프로그래밍 )\u001b[39;00m\n\u001b[1;32m----> 6\u001b[0m driver\u001b[38;5;241m.\u001b[39mget(url)\n\u001b[0;32m      7\u001b[0m driver\u001b[38;5;241m.\u001b[39mimplicitly_wait(\u001b[38;5;241m3\u001b[39m)\n\u001b[0;32m      9\u001b[0m \u001b[38;5;28;01mtry\u001b[39;00m: \u001b[38;5;66;03m# 팝업제거\u001b[39;00m\n",
      "File \u001b[1;32m~\\anaconda3\\Lib\\site-packages\\selenium\\webdriver\\remote\\webdriver.py:363\u001b[0m, in \u001b[0;36mWebDriver.get\u001b[1;34m(self, url)\u001b[0m\n\u001b[0;32m    361\u001b[0m \u001b[38;5;28;01mdef\u001b[39;00m \u001b[38;5;21mget\u001b[39m(\u001b[38;5;28mself\u001b[39m, url: \u001b[38;5;28mstr\u001b[39m) \u001b[38;5;241m-\u001b[39m\u001b[38;5;241m>\u001b[39m \u001b[38;5;28;01mNone\u001b[39;00m:\n\u001b[0;32m    362\u001b[0m \u001b[38;5;250m    \u001b[39m\u001b[38;5;124;03m\"\"\"Loads a web page in the current browser session.\"\"\"\u001b[39;00m\n\u001b[1;32m--> 363\u001b[0m     \u001b[38;5;28mself\u001b[39m\u001b[38;5;241m.\u001b[39mexecute(Command\u001b[38;5;241m.\u001b[39mGET, {\u001b[38;5;124m\"\u001b[39m\u001b[38;5;124murl\u001b[39m\u001b[38;5;124m\"\u001b[39m: url})\n",
      "File \u001b[1;32m~\\anaconda3\\Lib\\site-packages\\selenium\\webdriver\\remote\\webdriver.py:354\u001b[0m, in \u001b[0;36mWebDriver.execute\u001b[1;34m(self, driver_command, params)\u001b[0m\n\u001b[0;32m    352\u001b[0m response \u001b[38;5;241m=\u001b[39m \u001b[38;5;28mself\u001b[39m\u001b[38;5;241m.\u001b[39mcommand_executor\u001b[38;5;241m.\u001b[39mexecute(driver_command, params)\n\u001b[0;32m    353\u001b[0m \u001b[38;5;28;01mif\u001b[39;00m response:\n\u001b[1;32m--> 354\u001b[0m     \u001b[38;5;28mself\u001b[39m\u001b[38;5;241m.\u001b[39merror_handler\u001b[38;5;241m.\u001b[39mcheck_response(response)\n\u001b[0;32m    355\u001b[0m     response[\u001b[38;5;124m\"\u001b[39m\u001b[38;5;124mvalue\u001b[39m\u001b[38;5;124m\"\u001b[39m] \u001b[38;5;241m=\u001b[39m \u001b[38;5;28mself\u001b[39m\u001b[38;5;241m.\u001b[39m_unwrap_value(response\u001b[38;5;241m.\u001b[39mget(\u001b[38;5;124m\"\u001b[39m\u001b[38;5;124mvalue\u001b[39m\u001b[38;5;124m\"\u001b[39m, \u001b[38;5;28;01mNone\u001b[39;00m))\n\u001b[0;32m    356\u001b[0m     \u001b[38;5;28;01mreturn\u001b[39;00m response\n",
      "File \u001b[1;32m~\\anaconda3\\Lib\\site-packages\\selenium\\webdriver\\remote\\errorhandler.py:229\u001b[0m, in \u001b[0;36mErrorHandler.check_response\u001b[1;34m(self, response)\u001b[0m\n\u001b[0;32m    227\u001b[0m         alert_text \u001b[38;5;241m=\u001b[39m value[\u001b[38;5;124m\"\u001b[39m\u001b[38;5;124malert\u001b[39m\u001b[38;5;124m\"\u001b[39m]\u001b[38;5;241m.\u001b[39mget(\u001b[38;5;124m\"\u001b[39m\u001b[38;5;124mtext\u001b[39m\u001b[38;5;124m\"\u001b[39m)\n\u001b[0;32m    228\u001b[0m     \u001b[38;5;28;01mraise\u001b[39;00m exception_class(message, screen, stacktrace, alert_text)  \u001b[38;5;66;03m# type: ignore[call-arg]  # mypy is not smart enough here\u001b[39;00m\n\u001b[1;32m--> 229\u001b[0m \u001b[38;5;28;01mraise\u001b[39;00m exception_class(message, screen, stacktrace)\n",
      "\u001b[1;31mNoSuchWindowException\u001b[0m: Message: no such window: target window already closed\nfrom unknown error: web view not found\n  (Session info: chrome=130.0.6723.70)\nStacktrace:\n\tGetHandleVerifier [0x00007FF683373AB5+28005]\n\t(No symbol) [0x00007FF6832D83B0]\n\t(No symbol) [0x00007FF68317580A]\n\t(No symbol) [0x00007FF68314FA85]\n\t(No symbol) [0x00007FF6831F2AD7]\n\t(No symbol) [0x00007FF68320B1B1]\n\t(No symbol) [0x00007FF6831EB7E3]\n\t(No symbol) [0x00007FF6831B75C8]\n\t(No symbol) [0x00007FF6831B8731]\n\tGetHandleVerifier [0x00007FF68366643D+3118829]\n\tGetHandleVerifier [0x00007FF6836B6C90+3448640]\n\tGetHandleVerifier [0x00007FF6836ACF0D+3408317]\n\tGetHandleVerifier [0x00007FF68343A40B+841403]\n\t(No symbol) [0x00007FF6832E340F]\n\t(No symbol) [0x00007FF6832DF484]\n\t(No symbol) [0x00007FF6832DF61D]\n\t(No symbol) [0x00007FF6832CEB79]\n\tBaseThreadInitThunk [0x00007FFA3D5A257D+29]\n\tRtlUserThreadStart [0x00007FFA3F64AF08+40]\n"
     ]
    }
   ],
   "source": [
    "# save = len(df_review)\n",
    "# # 161\n",
    "# for i in tqdm(range(161, max_page + 1)):\n",
    "# # for i in tqdm(range(1, 2 + 1)):\n",
    "#     url = f'https://kmong.com/category/6?page={i}&sort=ranking_points&company=false&ratings=&has_portfolio=false&is_contactable=false&is_prime=false&is_fast_reaction=false&meta=&min_price=0&max_price=0'\n",
    "#     # category/카테고리에해당하는숫자 를 찾아 위 url 변수에 입력해주세요 ( 6 -> IT/프로그래밍 )\n",
    "#     driver.get(url)\n",
    "#     driver.implicitly_wait(3)\n",
    "    \n",
    "#     try: # 팝업제거\n",
    "#         driver.find_element(By.CLASS_NAME, \"ab-close-button\").click()\n",
    "\n",
    "#     except:\n",
    "#         pass\n",
    "    \n",
    "#     service_li = driver.find_elements(By.CLASS_NAME, 'css-mcjshf')\n",
    "    \n",
    "#     for service in service_li:\n",
    "#         try:\n",
    "#             service.click()\n",
    "        \n",
    "#         except:\n",
    "#             continue\n",
    "            \n",
    "#         driver.implicitly_wait(3)\n",
    "#         driver.switch_to.window(driver.window_handles[1])\n",
    "        \n",
    "#         try: # 팝업제거\n",
    "#             driver.find_element(By.CLASS_NAME, \"ab-close-button\").click()\n",
    "\n",
    "#         except:\n",
    "#             pass\n",
    "        \n",
    "#         try:\n",
    "#             title = driver.find_element(By.XPATH, '//*[@id=\"__next\"]/div/div/section[1]/div/div[1]/div/div[1]/h1').text\n",
    "\n",
    "#             css_j2at52 = driver.find_element(By.CLASS_NAME, 'css-j2at52')\n",
    "#             p_tag = css_j2at52.find_elements(By.TAG_NAME, 'p')\n",
    "#             main_category = p_tag[0].text\n",
    "        \n",
    "#         except:\n",
    "#             continue\n",
    "        \n",
    "#         try:\n",
    "#             sub_category = p_tag[1].text\n",
    "#         except:\n",
    "#             sub_category = '기타'\n",
    "#             pass\n",
    "        \n",
    "#         data = [title, main_category, sub_category]\n",
    "#         df_review.loc[save, :] = data\n",
    "                \n",
    "                \n",
    "#         save = save + 1\n",
    "                \n",
    "#         driver.close()\n",
    "#         driver.switch_to.window(driver.window_handles[0])\n",
    "        \n",
    "#     df_review.to_csv(f'kmong_{category}.csv')\n",
    "        "
   ]
  },
  {
   "cell_type": "code",
   "execution_count": null,
   "id": "cf1c9a34-ae4e-4987-bdb6-afd55cd14e03",
   "metadata": {},
   "outputs": [],
   "source": [
    "df_review"
   ]
  }
 ],
 "metadata": {
  "kernelspec": {
   "display_name": "Python 3 (ipykernel)",
   "language": "python",
   "name": "python3"
  },
  "language_info": {
   "codemirror_mode": {
    "name": "ipython",
    "version": 3
   },
   "file_extension": ".py",
   "mimetype": "text/x-python",
   "name": "python",
   "nbconvert_exporter": "python",
   "pygments_lexer": "ipython3",
   "version": "3.11.7"
  }
 },
 "nbformat": 4,
 "nbformat_minor": 5
}

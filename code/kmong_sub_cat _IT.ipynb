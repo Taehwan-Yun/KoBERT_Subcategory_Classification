{
 "cells": [
  {
   "cell_type": "code",
   "execution_count": null,
   "id": "6a50005b-1415-4143-9ac7-7f21240d1918",
   "metadata": {
    "tags": []
   },
   "outputs": [],
   "source": [
    "import requests\n",
    "from bs4 import BeautifulSoup\n",
    "from selenium import webdriver\n",
    "from selenium.webdriver.common.by import By\n",
    "from tqdm import tqdm\n",
    "import numpy as np\n",
    "import pandas as pd\n",
    "import seaborn as sns\n",
    "import matplotlib as mpl\n",
    "import matplotlib.pyplot as plt\n",
    "from selenium.webdriver.chrome.options import Options\n",
    "from selenium.webdriver.support import expected_conditions as EC\n",
    "from tqdm import tqdm\n",
    "\n",
    "options = Options()\n",
    "# options.add_argument('--disable-popup-blocking')\n",
    "options.add_experimental_option('excludeSwitches', ['disable-popup-blocking'])\n",
    "options.add_experimental_option('excludeSwitches', ['enable-logging'])\n",
    "options.add_argument(\"--disable-notifications\")\n",
    "options.add_argument(\"--disable-extensions\")\n",
    "options.add_argument(\"--no-sandbox\")\n",
    "options.add_argument(\"--disable-infobars\")\n",
    "\n",
    "mpl.rc('font', family = 'Malgun Gothic')"
   ]
  },
  {
   "cell_type": "code",
   "execution_count": null,
   "id": "b2c56919-4637-4b11-a63b-6054c368d74b",
   "metadata": {
    "tags": []
   },
   "outputs": [],
   "source": [
    "driver = webdriver.Chrome(options=options)\n",
    "# driver.get('https://kmong.com/')"
   ]
  },
  {
   "cell_type": "code",
   "execution_count": null,
   "id": "8f8d49ff-7595-430d-a1e1-92abf5739e79",
   "metadata": {
    "tags": []
   },
   "outputs": [],
   "source": [
    "category = 'IT프로그래밍'\n",
    "# category를 바꿔주세요\n",
    "max_page = 327\n",
    "# 해당 category의 최대 페이지 개수를 설정해주세요"
   ]
  },
  {
   "cell_type": "code",
   "execution_count": null,
   "id": "4e8d7588-cfed-4775-92c8-ee5c150c4cd2",
   "metadata": {
    "tags": []
   },
   "outputs": [],
   "source": [
    "df_review = pd.DataFrame(columns = ['서비스명', '카테고리', '하위카테고리'])"
   ]
  },
  {
   "cell_type": "code",
   "execution_count": null,
   "id": "c34f9186-8407-41db-89a0-873ec0129ceb",
   "metadata": {},
   "outputs": [],
   "source": [
    "# df_review = pd.read_csv(f'kmong_{category}_{i}.csv', index_col = 0)"
   ]
  },
  {
   "cell_type": "code",
   "execution_count": null,
   "id": "b4d32e4f-e5b0-4f13-a36b-1ea2bbb36ced",
   "metadata": {
    "tags": []
   },
   "outputs": [],
   "source": [
    "save = len(df_review)\n",
    "for i in tqdm(range(1, max_page + 1)):\n",
    "# for i in tqdm(range(1, 2 + 1)):\n",
    "    url = f'https://kmong.com/category/6?page={i}&sort=ranking_points&company=false&ratings=&has_portfolio=false&is_contactable=false&is_prime=false&is_fast_reaction=false&meta=&min_price=0&max_price=0'\n",
    "    # category/카테고리에해당하는숫자 를 찾아 위 url 변수에 입력해주세요 ( 6 -> IT/프로그래밍 )\n",
    "    driver.get(url)\n",
    "    driver.implicitly_wait(3)\n",
    "    \n",
    "    try: # 팝업제거\n",
    "        driver.find_element(By.CLASS_NAME, \"ab-close-button\").click()\n",
    "\n",
    "    except:\n",
    "        pass\n",
    "    \n",
    "    service_li = driver.find_elements(By.CLASS_NAME, 'css-mcjshf')\n",
    "    \n",
    "    for service in service_li:\n",
    "        service.click()\n",
    "        driver.implicitly_wait(3)\n",
    "        driver.switch_to.window(driver.window_handles[1])\n",
    "        \n",
    "        try: # 팝업제거\n",
    "            driver.find_element(By.CLASS_NAME, \"ab-close-button\").click()\n",
    "\n",
    "        except:\n",
    "            pass\n",
    "        \n",
    "        title = driver.find_element(By.XPATH, '//*[@id=\"__next\"]/div/div/section[1]/div/div[1]/div/div[1]/h1').text\n",
    "        \n",
    "        css_j2at52 = driver.find_element(By.CLASS_NAME, 'css-j2at52')\n",
    "        p_tag = css_j2at52.find_elements(By.TAG_NAME, 'p')\n",
    "        main_category = p_tag[0].text\n",
    "        \n",
    "        try:\n",
    "            sub_category = p_tag[1].text\n",
    "        except:\n",
    "            sub_category = '기타'\n",
    "            pass\n",
    "        \n",
    "        data = [title, main_category, sub_category]\n",
    "        df_review.loc[save, :] = data\n",
    "                \n",
    "                \n",
    "        save = save + 1\n",
    "                \n",
    "        driver.close()\n",
    "        driver.switch_to.window(driver.window_handles[0])\n",
    "        \n",
    "    df_review.to_csv(f'kmong_{category}.csv')\n",
    "        "
   ]
  },
  {
   "cell_type": "code",
   "execution_count": null,
   "id": "cf1c9a34-ae4e-4987-bdb6-afd55cd14e03",
   "metadata": {},
   "outputs": [],
   "source": [
    "df_review"
   ]
  }
 ],
 "metadata": {
  "kernelspec": {
   "display_name": "Python 3 (ipykernel)",
   "language": "python",
   "name": "python3"
  },
  "language_info": {
   "codemirror_mode": {
    "name": "ipython",
    "version": 3
   },
   "file_extension": ".py",
   "mimetype": "text/x-python",
   "name": "python",
   "nbconvert_exporter": "python",
   "pygments_lexer": "ipython3",
   "version": "3.11.7"
  }
 },
 "nbformat": 4,
 "nbformat_minor": 5
}
